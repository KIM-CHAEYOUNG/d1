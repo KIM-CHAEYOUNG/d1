{
 "cells": [
  {
   "cell_type": "markdown",
   "metadata": {},
   "source": [
    "# 사진 추출"
   ]
  },
  {
   "cell_type": "code",
   "execution_count": 1,
   "metadata": {},
   "outputs": [],
   "source": [
    "import requests\n",
    "from bs4 import BeautifulSoup"
   ]
  },
  {
   "cell_type": "code",
   "execution_count": 25,
   "metadata": {},
   "outputs": [],
   "source": [
    "url = \"https://news.naver.com/main/list.nhn?mode=LSD&mid=sec&sid1=001\""
   ]
  },
  {
   "cell_type": "code",
   "execution_count": 26,
   "metadata": {},
   "outputs": [],
   "source": [
    "html = requests.get(url).text"
   ]
  },
  {
   "cell_type": "code",
   "execution_count": 27,
   "metadata": {},
   "outputs": [],
   "source": [
    "soup = BeautifulSoup(html, \"html.parser\")"
   ]
  },
  {
   "cell_type": "code",
   "execution_count": 28,
   "metadata": {},
   "outputs": [],
   "source": [
    "all = soup.find(\"ul\",{\"class\":\"type06_headline\"})"
   ]
  },
  {
   "cell_type": "code",
   "execution_count": 29,
   "metadata": {},
   "outputs": [],
   "source": [
    "dl = all.find_all(\"dl\")"
   ]
  },
  {
   "cell_type": "code",
   "execution_count": 42,
   "metadata": {},
   "outputs": [
    {
     "data": {
      "text/plain": [
       "10"
      ]
     },
     "execution_count": 42,
     "metadata": {},
     "output_type": "execute_result"
    }
   ],
   "source": [
    "len(dl)"
   ]
  },
  {
   "cell_type": "code",
   "execution_count": 44,
   "metadata": {},
   "outputs": [
    {
     "data": {
      "text/plain": [
       "bs4.element.ResultSet"
      ]
     },
     "execution_count": 44,
     "metadata": {},
     "output_type": "execute_result"
    }
   ],
   "source": [
    "type(dl)"
   ]
  },
  {
   "cell_type": "code",
   "execution_count": 41,
   "metadata": {},
   "outputs": [
    {
     "name": "stdout",
     "output_type": "stream",
     "text": [
      "img=  https://imgnews.pstatic.net/image/origin/366/2020/08/05/566356.jpg?type=nf106_72\n",
      "--------------\n",
      "img=  https://imgnews.pstatic.net/image/origin/119/2020/08/05/2419647.jpg?type=nf106_72\n",
      "--------------\n",
      "img=  https://imgnews.pstatic.net/image/origin/079/2020/08/05/3391851.jpg?type=nf106_72\n",
      "--------------\n",
      "No image\n",
      "img=  https://imgnews.pstatic.net/image/origin/028/2020/08/05/2507655.jpg?type=nf106_72\n",
      "--------------\n",
      "No image\n",
      "img=  https://imgnews.pstatic.net/image/origin/009/2020/08/05/4629608.jpg?type=nf106_72\n",
      "--------------\n",
      "No image\n",
      "img=  https://imgnews.pstatic.net/image/origin/011/2020/08/05/3778825.jpg?type=nf106_72\n",
      "--------------\n",
      "img=  https://imgnews.pstatic.net/image/origin/009/2020/08/05/4629607.jpg?type=nf106_72\n",
      "--------------\n"
     ]
    }
   ],
   "source": [
    "for item2 in dl:\n",
    "    try:\n",
    "        #print(item2)\n",
    "        img = item2.find(\"dt\", {\"class\":\"photo\"}).find(\"img\")\n",
    "           #img=item2.find(\"dt\",{\"class\":\"photo\"}).find(\"img\")[\"src\"]\n",
    "    # print(\"2=\",img)\n",
    "        #img2=img.find(\"img\")\n",
    "        \n",
    "        print(\"img= \", img[\"src\"])\n",
    "        print(\"--------------\")\n",
    "    except:\n",
    "        print(\"No image\")"
   ]
  },
  {
   "cell_type": "markdown",
   "metadata": {},
   "source": [
    "# 헤드라인"
   ]
  },
  {
   "cell_type": "code",
   "execution_count": 18,
   "metadata": {},
   "outputs": [],
   "source": [
    "dl = all.find_all(\"dl\")"
   ]
  },
  {
   "cell_type": "code",
   "execution_count": 19,
   "metadata": {},
   "outputs": [
    {
     "name": "stdout",
     "output_type": "stream",
     "text": [
      "https://news.naver.com/main/read.nhn?mode=LSD&mid=sec&sid1=001&oid=079&aid=0003391846\n",
      " DGB금융그룹, 지속 가능 경영 보고서 발간\r\n",
      "https://news.naver.com/main/read.nhn?mode=LSD&mid=sec&sid1=001&oid=056&aid=0010880375\n",
      " 세계 코로나19 사망자 7개월여만에 70만명 넘어\r\n",
      "https://news.naver.com/main/read.nhn?mode=LSD&mid=sec&sid1=001&oid=082&aid=0001020155\n",
      " 홈플러스 \"의류·잡화 최대 80% 저렴하게 챙기세요\"\r\n",
      "https://news.naver.com/main/read.nhn?mode=LSD&mid=sec&sid1=001&oid=056&aid=0010880374\n",
      " 법무부 “검찰에 위임된 국가소송 승인 권한 등, 다시 법무부로 이관”\r\n",
      "https://news.naver.com/main/read.nhn?mode=LSD&mid=sec&sid1=001&oid=056&aid=0010880373\n",
      " 올해 자라섬재즈페스티벌 온라인 행사로 바꿔 개최\r\n",
      "https://news.naver.com/main/read.nhn?mode=LSD&mid=sec&sid1=001&oid=056&aid=0010880372\n",
      " 도쿄 신규 확진 9일째 200명 넘어…“10%는 가정내 감염”\r\n",
      "https://news.naver.com/main/read.nhn?mode=LSD&mid=sec&sid1=001&oid=047&aid=0002279621\n",
      " 천안시, 114번째 코로나19 확진자 발생... 접촉자 검사 중\r\n",
      "https://news.naver.com/main/read.nhn?mode=LSD&mid=sec&sid1=001&oid=047&aid=0002279620\n",
      " 당진시, 코로나19 확진자 추가 발생\r\n",
      "https://news.naver.com/main/read.nhn?mode=LSD&mid=sec&sid1=001&oid=023&aid=0003551808\n",
      " 이정미ㆍ이혜훈 \"강경화, 韓외교관 뉴질랜드 성추행 대처 답답\"\r\n",
      "https://news.naver.com/main/read.nhn?mode=LSD&mid=sec&sid1=001&oid=018&aid=0004707249\n",
      " 정부, '아세안+3'에 \"경제인 역내 이동 보장하자\"\r\n"
     ]
    }
   ],
   "source": [
    "for item2 in dl:\n",
    "    link = item2.find(\"dt\", {\"class\": \"\"}).find(\"a\")\n",
    "    print(link[\"href\"])\n",
    "    print(link.text.replace(\"\\t\", \"\").replace(\"\\n\",\"\")[1:len(link.text)+1])"
   ]
  },
  {
   "cell_type": "markdown",
   "metadata": {},
   "source": [
    "# 내용"
   ]
  },
  {
   "cell_type": "code",
   "execution_count": 20,
   "metadata": {},
   "outputs": [],
   "source": [
    "dl= all.find_all(\"dl\")"
   ]
  },
  {
   "cell_type": "code",
   "execution_count": 21,
   "metadata": {},
   "outputs": [
    {
     "name": "stdout",
     "output_type": "stream",
     "text": [
      "[대구CBS 이정환 기자] DGB금융그룹이 경제·사회·환경 부문 활동과 성과를 담은 '2019-2020 지속 가능 경영 보고서' …노컷뉴스1분전\n",
      "코로나19 확진자가 1천800만 명대에 올라선 가운데 사망자가 70만명을 넘었습니다. 미국과 인도 등에서 '1차 유행'이 끝나지 …KBS1분전\n",
      "홈플러스가 여름철 시즌오프를 앞두고 의류와 잡화를 대상으로 대규모 창고개방 행사(사진)를 진행한다. 대규모 행사 진행으로 오프라 …부산일보1분전\n",
      "법무부가 각급 검찰청에 위임되어 있는 법무부 장관의 국가소송 승인 권한, 행정 소송 승인·지휘 권한을 법무부로 이관합니다. 법무 …KBS1분전\n",
      "당초 오프라인으로 개최할 예정이었던 올해 자라섬재즈페스티벌이 코로나19 사태로 인해 온라인 페스티벌로 변경됐습니다. 자라섬재즈페 …KBS1분전\n",
      "일본 수도 도쿄에서 오늘(5일) 코로나19 신규 확진자가 263명 나왔습니다. 도쿄도(都)는 오늘 파악된 코로나19 신규 확진자 …KBS1분전\n",
      "방역당국, 세부적인 동선 파악 위한 역학 조사 돌입\n",
      "7월 29일 인천공항 통해 입국\n",
      "\"일벌백계 안 하면 제2, 제3의 성범죄 사건 터져\" 정의당과 미래통합당 의원 출신의 두 여성 정치인이 ‘뉴질랜드 한국 외교관  …조선일보1분전\n",
      "기획재정부. 이데일리DB. [세종=이데일리 한광범 기자] 정부가 중국·일본과 ASEAN(동남아시아국가연합)에 경제인 이동 보장을 …이데일리1분전\n"
     ]
    }
   ],
   "source": [
    "for item2 in dl:\n",
    "    try:\n",
    "        content = item2.find(\"dd\")\n",
    "        print(content.text.replace(\"\\t\",\"\").replace(\"\\n\",\"\").split(\"...\")[0])\n",
    "    except:\n",
    "        print(\"No Content\")"
   ]
  },
  {
   "cell_type": "code",
   "execution_count": null,
   "metadata": {},
   "outputs": [],
   "source": []
  }
 ],
 "metadata": {
  "kernelspec": {
   "display_name": "Python 3",
   "language": "python",
   "name": "python3"
  },
  "language_info": {
   "codemirror_mode": {
    "name": "ipython",
    "version": 3
   },
   "file_extension": ".py",
   "mimetype": "text/x-python",
   "name": "python",
   "nbconvert_exporter": "python",
   "pygments_lexer": "ipython3",
   "version": "3.8.3"
  }
 },
 "nbformat": 4,
 "nbformat_minor": 4
}
