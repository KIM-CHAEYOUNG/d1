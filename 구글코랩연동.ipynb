{
  "nbformat": 4,
  "nbformat_minor": 0,
  "metadata": {
    "colab": {
      "name": "구글코랩연동.ipynb",
      "provenance": [],
      "authorship_tag": "ABX9TyOn6UMmiKzcToFERu1lNpyQ",
      "include_colab_link": true
    },
    "kernelspec": {
      "name": "python3",
      "display_name": "Python 3"
    }
  },
  "cells": [
    {
      "cell_type": "markdown",
      "metadata": {
        "id": "view-in-github",
        "colab_type": "text"
      },
      "source": [
        "<a href=\"https://colab.research.google.com/github/KIM-CHAEYOUNG/d1/blob/master/%EA%B5%AC%EA%B8%80%EC%BD%94%EB%9E%A9%EC%97%B0%EB%8F%99.ipynb\" target=\"_parent\"><img src=\"https://colab.research.google.com/assets/colab-badge.svg\" alt=\"Open In Colab\"/></a>"
      ]
    },
    {
      "cell_type": "markdown",
      "metadata": {
        "id": "qzh-THuJQXV9",
        "colab_type": "text"
      },
      "source": [
        "### 1. 구글 연동"
      ]
    },
    {
      "cell_type": "code",
      "metadata": {
        "id": "0QYhuwUUQL7Y",
        "colab_type": "code",
        "colab": {
          "base_uri": "https://localhost:8080/",
          "height": 145
        },
        "outputId": "5d7eb678-a9d9-4503-84bd-13eeea8037e1"
      },
      "source": [
        "# Mount Google Drive #절대 바꾸지 말 것\n",
        "from google.colab import drive # import drive from google colab\n",
        "\n",
        "ROOT = \"/content/drive\"     # default location for the drive #\n",
        "print(ROOT)                 # print content of ROOT (Optional)\n",
        "drive.mount(ROOT)           # we mount the google drive at /content/drive"
      ],
      "execution_count": 1,
      "outputs": [
        {
          "output_type": "stream",
          "text": [
            "/content/drive\n",
            "Go to this URL in a browser: https://accounts.google.com/o/oauth2/auth?client_id=947318989803-6bn6qk8qdgf4n4g3pfee6491hc0brc4i.apps.googleusercontent.com&redirect_uri=urn%3aietf%3awg%3aoauth%3a2.0%3aoob&scope=email%20https%3a%2f%2fwww.googleapis.com%2fauth%2fdocs.test%20https%3a%2f%2fwww.googleapis.com%2fauth%2fdrive%20https%3a%2f%2fwww.googleapis.com%2fauth%2fdrive.photos.readonly%20https%3a%2f%2fwww.googleapis.com%2fauth%2fpeopleapi.readonly&response_type=code\n",
            "\n",
            "Enter your authorization code:\n",
            "··········\n",
            "Mounted at /content/drive\n"
          ],
          "name": "stdout"
        }
      ]
    },
    {
      "cell_type": "code",
      "metadata": {
        "id": "GbZp_J5_Q3lD",
        "colab_type": "code",
        "colab": {
          "base_uri": "https://localhost:8080/",
          "height": 35
        },
        "outputId": "3acafe1e-d7fb-4a28-af4c-b386fe9dc62f"
      },
      "source": [
        "%pwd"
      ],
      "execution_count": 4,
      "outputs": [
        {
          "output_type": "execute_result",
          "data": {
            "application/vnd.google.colaboratory.intrinsic+json": {
              "type": "string"
            },
            "text/plain": [
              "'/content'"
            ]
          },
          "metadata": {
            "tags": []
          },
          "execution_count": 4
        }
      ]
    },
    {
      "cell_type": "code",
      "metadata": {
        "id": "Mg5GCT6oQ6_0",
        "colab_type": "code",
        "colab": {
          "base_uri": "https://localhost:8080/",
          "height": 35
        },
        "outputId": "f249f1e3-d267-4e44-ea13-adefd0db3f79"
      },
      "source": [
        "%ls"
      ],
      "execution_count": 5,
      "outputs": [
        {
          "output_type": "stream",
          "text": [
            "\u001b[0m\u001b[01;34mdrive\u001b[0m/  \u001b[01;34msample_data\u001b[0m/\n"
          ],
          "name": "stdout"
        }
      ]
    },
    {
      "cell_type": "code",
      "metadata": {
        "id": "-UCacA5TQ8Xj",
        "colab_type": "code",
        "colab": {
          "base_uri": "https://localhost:8080/",
          "height": 35
        },
        "outputId": "3fbaf576-e505-43f0-f819-fde8aae67184"
      },
      "source": [
        "%cd drive/'My Drive'/'Colab Notebooks'/'house_price_train'"
      ],
      "execution_count": 2,
      "outputs": [
        {
          "output_type": "stream",
          "text": [
            "/content/drive/My Drive/Colab Notebooks/house_price_train\n"
          ],
          "name": "stdout"
        }
      ]
    },
    {
      "cell_type": "code",
      "metadata": {
        "id": "_UZG-ZRLRl7c",
        "colab_type": "code",
        "colab": {
          "base_uri": "https://localhost:8080/",
          "height": 35
        },
        "outputId": "4b7a544d-4afc-4e67-80a7-c5f4b79749d7"
      },
      "source": [
        "%pwd"
      ],
      "execution_count": 3,
      "outputs": [
        {
          "output_type": "execute_result",
          "data": {
            "application/vnd.google.colaboratory.intrinsic+json": {
              "type": "string"
            },
            "text/plain": [
              "'/content/drive/My Drive/Colab Notebooks/house_price_train'"
            ]
          },
          "metadata": {
            "tags": []
          },
          "execution_count": 3
        }
      ]
    },
    {
      "cell_type": "code",
      "metadata": {
        "id": "5zC9FmOxRmy7",
        "colab_type": "code",
        "colab": {}
      },
      "source": [
        ""
      ],
      "execution_count": null,
      "outputs": []
    },
    {
      "cell_type": "code",
      "metadata": {
        "id": "R3_33AOURnpz",
        "colab_type": "code",
        "colab": {
          "base_uri": "https://localhost:8080/",
          "height": 35
        },
        "outputId": "d1f1ad71-1d20-41bb-800b-1590b274045e"
      },
      "source": [
        "%ls"
      ],
      "execution_count": 4,
      "outputs": [
        {
          "output_type": "stream",
          "text": [
            "sample_submission.csv  test.csv  train.csv\n"
          ],
          "name": "stdout"
        }
      ]
    },
    {
      "cell_type": "markdown",
      "metadata": {
        "id": "7QMHOG2BRry4",
        "colab_type": "text"
      },
      "source": [
        "### 2. 빅쿼리 적재"
      ]
    },
    {
      "cell_type": "code",
      "metadata": {
        "id": "h7ej_7UbRopT",
        "colab_type": "code",
        "colab": {
          "base_uri": "https://localhost:8080/",
          "height": 91
        },
        "outputId": "184d4b63-8d90-41df-8324-487c8756b0ee"
      },
      "source": [
        "import pandas as pd\n",
        "from pandas.io import gbq\n",
        "\n",
        "# import sample_submission file\n",
        "sample_submission = pd.read_csv('sample_submission.csv')\n",
        "\n",
        "#quantum-genre-286903:titanic_classification\n",
        "\n",
        "\n",
        "# Connect to Google Cloud API and Upload DataFrame\n",
        "sample_submission.to_gbq(destination_table='house_classification.sample_submission', #DB에 테이블 생성 \n",
        "                  project_id='quantum-genre-286903', # 개별 빅쿼리 ID 입력 #\n",
        "                  if_exists='replace')"
      ],
      "execution_count": 5,
      "outputs": [
        {
          "output_type": "stream",
          "text": [
            "Please visit this URL to authorize this application: https://accounts.google.com/o/oauth2/auth?response_type=code&client_id=725825577420-unm2gnkiprugilg743tkbig250f4sfsj.apps.googleusercontent.com&redirect_uri=urn%3Aietf%3Awg%3Aoauth%3A2.0%3Aoob&scope=https%3A%2F%2Fwww.googleapis.com%2Fauth%2Fbigquery&state=f31hfWjGsphI9M6pMGkFkbUzEo2KBV&prompt=consent&access_type=offline\n",
            "Enter the authorization code: 4/3QGJysBQRyGhY6cPnyV9ogm_7cL1i8dYnh1yIeRTFVbiAbOsuUJ2RUU\n"
          ],
          "name": "stdout"
        },
        {
          "output_type": "stream",
          "text": [
            "1it [00:05,  5.88s/it]\n"
          ],
          "name": "stderr"
        }
      ]
    },
    {
      "cell_type": "code",
      "metadata": {
        "id": "G5pUltiJ-g91",
        "colab_type": "code",
        "colab": {
          "base_uri": "https://localhost:8080/",
          "height": 53
        },
        "outputId": "d8e8eef5-4489-4021-d4f7-3eaa08a29b1d"
      },
      "source": [
        "# 참고 url\n",
        "# https://chloevan.github.io/python/python_edu/04_machinelearning/chapter_4_3_lightgbm/#4-bigquery%EC%97%90-%EB%8D%B0%EC%9D%B4%ED%84%B0-%EC%A0%81%EC%9E%AC\n",
        "import pandas as pd\n",
        "from pandas.io import gbq\n",
        "\n",
        "train=pd.read_csv('train.csv')\n",
        "colnames_dict = {\"1stFlrSF\": \"my1stFlrSF\", \"2ndFlrSF\": \"my2ndFlrSF\", \"3SsnPorch\": \"my3SsnPorch\"}\n",
        "train = train.rename(columns=colnames_dict)\n",
        "train.to_gbq(destination_table='house_classification.train', \n",
        "                  project_id='quantum-genre-286903', \n",
        "                  if_exists='replace')\n",
        "\n",
        "test=pd.read_csv('test.csv')\n",
        "test = test.rename(columns=colnames_dict)\n",
        "test.to_gbq(destination_table='house_classification.test', \n",
        "            project_id='quantum-genre-286903', \n",
        "            if_exists='replace')"
      ],
      "execution_count": 8,
      "outputs": [
        {
          "output_type": "stream",
          "text": [
            "1it [00:03,  3.75s/it]\n",
            "1it [00:05,  5.99s/it]\n"
          ],
          "name": "stderr"
        }
      ]
    },
    {
      "cell_type": "code",
      "metadata": {
        "id": "r5YGfH0O9n9k",
        "colab_type": "code",
        "colab": {}
      },
      "source": [
        ""
      ],
      "execution_count": null,
      "outputs": []
    }
  ]
}